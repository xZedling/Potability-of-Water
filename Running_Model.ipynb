{
 "cells": [
  {
   "cell_type": "code",
   "execution_count": 2,
   "id": "002e233c",
   "metadata": {},
   "outputs": [],
   "source": [
    "import joblib\n",
    "import pandas as pd\n",
    "\n",
    "model = joblib.load('Random_Forest_Model.pkl')"
   ]
  },
  {
   "cell_type": "code",
   "execution_count": 3,
   "id": "f190c2c7",
   "metadata": {},
   "outputs": [],
   "source": [
    "data = pd.read_csv('Prediction_Set.csv')"
   ]
  },
  {
   "cell_type": "code",
   "execution_count": 4,
   "id": "0655f3fb",
   "metadata": {},
   "outputs": [
    {
     "name": "stdout",
     "output_type": "stream",
     "text": [
      "           ph    Hardness       Solids  Chloramines     Sulfate  Conductivity  \\\n",
      "0    8.316766  214.373394  22018.41744     8.059332  356.886136    363.266516   \n",
      "1    9.092223  181.101509  17978.98634     6.546600  310.135738    398.410813   \n",
      "2    5.584087  188.313324  28748.68774     7.544869  326.678363    280.467916   \n",
      "3   10.223862  248.071735  28749.71654     7.513408  393.663395    283.651634   \n",
      "4    8.635849  203.361523  13672.09176     4.563009  303.309771    474.607645   \n",
      "5   11.180284  227.231469  25484.50849     9.077200  404.041635    563.885481   \n",
      "6    7.360640  165.520797  32452.61441     7.550701  326.624353    425.383420   \n",
      "7    6.105140  249.141391  45249.44903     7.369360  338.771307    314.965090   \n",
      "8    9.443359   73.492234  20438.22469     8.024953  315.805659    458.677232   \n",
      "9    6.887414  223.603058  29189.13672    10.514466  253.830552    386.622862   \n",
      "10   6.512901  169.217480  25151.41157     4.613311  375.612318    296.074382   \n",
      "11   5.772718  213.363545  26124.93141     8.630719  273.279448    465.559286   \n",
      "\n",
      "    Organic_carbon  Trihalomethanes  Turbidity  \n",
      "0        18.436525       100.341674   4.628771  \n",
      "1        11.558279        31.997993   4.075075  \n",
      "2         8.399735        54.917862   2.559708  \n",
      "3        13.789695        84.603556   2.672989  \n",
      "4        12.363817        62.798309   4.401425  \n",
      "5        17.927806        71.976601   4.370562  \n",
      "6        15.586810        78.740016   3.662292  \n",
      "7        11.251778        88.657477   3.103090  \n",
      "8        12.538681        50.852470   3.486646  \n",
      "9        11.312294        67.916183   4.564188  \n",
      "10       15.088700        74.075926   4.404040  \n",
      "11        8.006208        59.964334   6.494249  \n"
     ]
    }
   ],
   "source": [
    "print(data)"
   ]
  },
  {
   "cell_type": "code",
   "execution_count": 5,
   "id": "ca903732",
   "metadata": {
    "scrolled": true
   },
   "outputs": [
    {
     "name": "stdout",
     "output_type": "stream",
     "text": [
      "Data point 1: Predicted class is 0\n",
      "Data point 2: Predicted class is 0\n",
      "Data point 3: Predicted class is 0\n",
      "Data point 4: Predicted class is 0\n",
      "Data point 5: Predicted class is 0\n",
      "Data point 6: Predicted class is 0\n",
      "Data point 7: Predicted class is 0\n",
      "Data point 8: Predicted class is 1\n",
      "Data point 9: Predicted class is 1\n",
      "Data point 10: Predicted class is 1\n",
      "Data point 11: Predicted class is 1\n",
      "Data point 12: Predicted class is 1\n"
     ]
    }
   ],
   "source": [
    "predictions = model.predict(data)\n",
    "\n",
    "# Display predictions\n",
    "for i, prediction in enumerate(predictions):\n",
    "    print(\"Data point {}: Predicted class is {}\".format(i+1, prediction))"
   ]
  },
  {
   "cell_type": "code",
   "execution_count": 13,
   "id": "5b1c9f2b",
   "metadata": {},
   "outputs": [],
   "source": [
    "import numpy as np\n",
    "import pandas as pd\n",
    "from sklearn.model_selection import train_test_split, cross_val_score, KFold, StratifiedKFold, LeaveOneOut\n",
    "from sklearn.metrics import confusion_matrix, f1_score, precision_score, accuracy_score\n",
    "from sklearn.datasets import load_iris\n",
    "from sklearn.svm import SVC"
   ]
  },
  {
   "cell_type": "code",
   "execution_count": 7,
   "id": "25ed202f",
   "metadata": {},
   "outputs": [],
   "source": [
    "iris = pd.read_csv('water_potability.csv')\n",
    "iris = iris.dropna()\n",
    "X = iris.drop('Potability', axis=1)\n",
    "y = iris['Potability']"
   ]
  },
  {
   "cell_type": "code",
   "execution_count": 8,
   "id": "47c02532",
   "metadata": {},
   "outputs": [],
   "source": [
    "X_train, X_test, y_train, y_test = train_test_split(X, y, test_size=0.2, random_state=42)"
   ]
  },
  {
   "cell_type": "code",
   "execution_count": 9,
   "id": "15f9c238",
   "metadata": {},
   "outputs": [],
   "source": [
    "y_pred = model.predict(X_test)"
   ]
  },
  {
   "cell_type": "code",
   "execution_count": 16,
   "id": "59f65e5d",
   "metadata": {},
   "outputs": [
    {
     "name": "stdout",
     "output_type": "stream",
     "text": [
      "Train-Test Split:\n",
      "Accuracy: 0.8635235732009926\n",
      "Classification Report:\n",
      "              precision    recall  f1-score   support\n",
      "\n",
      "           0       0.82      0.97      0.89       231\n",
      "           1       0.95      0.72      0.82       172\n",
      "\n",
      "    accuracy                           0.86       403\n",
      "   macro avg       0.89      0.84      0.85       403\n",
      "weighted avg       0.88      0.86      0.86       403\n",
      "\n",
      "Confusion Matrix:\n",
      "[[225   6]\n",
      " [ 49 123]]\n",
      "F1 Score:\n",
      "0.8172757475083057\n"
     ]
    }
   ],
   "source": [
    "print(\"Train-Test Split:\")\n",
    "print(\"Accuracy:\", accuracy_score(y_test, y_pred))\n",
    "print(\"Classification Report:\")\n",
    "print(classification_report(y_test, y_pred))\n",
    "print(\"Confusion Matrix:\")\n",
    "print(confusion_matrix(y_test, y_pred))\n",
    "print(\"F1 Score:\")\n",
    "print(f1_score(y_test, y_pred))"
   ]
  },
  {
   "cell_type": "code",
   "execution_count": null,
   "id": "864e66fd",
   "metadata": {},
   "outputs": [],
   "source": []
  }
 ],
 "metadata": {
  "kernelspec": {
   "display_name": "Python 3 (ipykernel)",
   "language": "python",
   "name": "python3"
  },
  "language_info": {
   "codemirror_mode": {
    "name": "ipython",
    "version": 3
   },
   "file_extension": ".py",
   "mimetype": "text/x-python",
   "name": "python",
   "nbconvert_exporter": "python",
   "pygments_lexer": "ipython3",
   "version": "3.11.7"
  }
 },
 "nbformat": 4,
 "nbformat_minor": 5
}
